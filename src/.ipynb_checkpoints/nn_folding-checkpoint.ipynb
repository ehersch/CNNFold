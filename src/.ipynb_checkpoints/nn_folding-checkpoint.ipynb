{
 "cells": [
  {
   "cell_type": "markdown",
   "id": "1f14637d-348a-4a85-be9e-bdfbd4e3e12c",
   "metadata": {},
   "source": [
    "<b>Neural Network Folding<b>\n",
    "\n",
    "    This notebook contains a method using a convolutional neural network to learn secondary structure prediction. This network is trained on over 500 sequences of varying length and their correct secondary strructures"
   ]
  },
  {
   "cell_type": "code",
   "execution_count": 16,
   "id": "e0ef8bdc-7fda-4995-9a8b-9dea6b0641a8",
   "metadata": {
    "tags": []
   },
   "outputs": [],
   "source": [
    "import os\n",
    "import torch\n",
    "from torch import nn\n",
    "import pandas as pd\n",
    "import numpy as np\n",
    "import csv\n",
    "import torch.optim as optim\n",
    "from keras.preprocessing.sequence import pad_sequences\n",
    "from sklearn.model_selection import train_test_split\n",
    "from tensorflow.keras.models import Sequential\n",
    "from tensorflow.keras.layers import Dense, Dropout\n",
    "#from torch.utils.data import DataLoader\n",
    "#from torchvision import datasets, transforms"
   ]
  },
  {
   "cell_type": "code",
   "execution_count": 17,
   "id": "d97bc378-a863-4080-bcae-efdad3589bce",
   "metadata": {
    "tags": []
   },
   "outputs": [
    {
     "name": "stdout",
     "output_type": "stream",
     "text": [
      "Using mps device\n"
     ]
    }
   ],
   "source": [
    "device = (\n",
    "    \"cuda\"\n",
    "    if torch.cuda.is_available()\n",
    "    else \"mps\"\n",
    "    if torch.backends.mps.is_available()\n",
    "    else \"cpu\"\n",
    ")\n",
    "print(f\"Using {device} device\")"
   ]
  },
  {
   "cell_type": "markdown",
   "id": "c8adfa56-cb08-4194-bce0-7de45d96f955",
   "metadata": {},
   "source": [
    "***Process data from our CSV file. Make some alterations:***\n",
    "- Characters A, C, G, U become 1, 2, 3, 4 respectively\n",
    "- Dot-bracket form becomes (-1)-integer form where each '.' becomes a '-1' and each set of parentheses becomes a positive integer. i.e. '..(.(.))' becomes [-1, -1, 1, -1, 2, -1, 2, 1]\n",
    "- Data is converted from strings to numpy arrays\n",
    "- Apply 0 padding to account for sequences with different length"
   ]
  },
  {
   "cell_type": "code",
   "execution_count": 18,
   "id": "7a21c810-1db9-4e55-b60a-56d255fda8eb",
   "metadata": {
    "tags": []
   },
   "outputs": [],
   "source": [
    "MAX_LENGTH = 390 # longest RNA sequence (useful for padding)\n",
    "\n",
    "def convert_strand(string):\n",
    "    d = {'A' : 1, 'C' : 2, 'G' : 3, 'U' : 4, 'T' : 4}\n",
    "    lst = []\n",
    "    n = len(string)\n",
    "    for char in string:\n",
    "        lst += [d[char]]\n",
    "    return (lst + [0]*(MAX_LENGTH - n))\n",
    "\n",
    "def convert_folding(dot_bracket):\n",
    "    result = []\n",
    "    stack = []  # Stack to track open parentheses\n",
    "    pair_id = 1  # Unique ID for each pair of parentheses\n",
    "    n = len(dot_bracket)\n",
    "\n",
    "    for char in dot_bracket:\n",
    "        if char == '.':\n",
    "            result.append(-1)\n",
    "        elif char == '(':\n",
    "            result.append(pair_id)\n",
    "            stack.append(pair_id)\n",
    "            pair_id += 1\n",
    "        elif char == ')':\n",
    "            if stack:\n",
    "                pair_number = stack.pop()\n",
    "                result.append(pair_number)\n",
    "            \n",
    "    return (result + [0]*(MAX_LENGTH - n))\n",
    "\n",
    "def process_data(csv_path):\n",
    "    rna_strands = []\n",
    "    expected_foldings = []\n",
    "    combined_data = []\n",
    "\n",
    "    with open(csv_path, newline='') as csvfile:\n",
    "        reader = csv.reader(csvfile)\n",
    "        next(reader)\n",
    "        for row in reader:\n",
    "            strand = convert_strand(row[0])\n",
    "            folding = convert_folding(row[1])\n",
    "            rna_strands.append(strand)\n",
    "            expected_foldings.append(folding)\n",
    "\n",
    "    return rna_strands,expected_foldings"
   ]
  },
  {
   "cell_type": "code",
   "execution_count": 19,
   "id": "ef04b1aa-11b3-40b6-83c4-4d8929f90be7",
   "metadata": {
    "tags": []
   },
   "outputs": [],
   "source": [
    "csv_path = \"../data/RNA_Strands.csv\"\n",
    "rna_strands,expected_foldings = process_data(csv_path)"
   ]
  },
  {
   "cell_type": "code",
   "execution_count": 20,
   "id": "1c2c7abd-25f8-48a2-8d81-0693246dab81",
   "metadata": {
    "tags": []
   },
   "outputs": [
    {
     "name": "stdout",
     "output_type": "stream",
     "text": [
      "72\n",
      "87\n",
      "96\n",
      "105\n",
      "117\n",
      "136\n",
      "146\n",
      "159\n",
      "189\n",
      "206\n",
      "217\n",
      "232\n",
      "276\n",
      "285\n",
      "292\n",
      "295\n",
      "302\n",
      "315\n",
      "340\n",
      "351\n",
      "353\n",
      "387\n",
      "390\n",
      "391\n",
      "400\n",
      "404\n",
      "415\n",
      "417\n",
      "434\n",
      "441\n",
      "445\n",
      "447\n",
      "477\n",
      "516\n",
      "521\n"
     ]
    }
   ],
   "source": [
    "for count, i in enumerate(expected_foldings):\n",
    "    if len(i) != 390:\n",
    "        print(count)"
   ]
  },
  {
   "cell_type": "code",
   "execution_count": 22,
   "id": "39385a09-6868-4779-b9c7-6a1cb4738a9e",
   "metadata": {
    "tags": []
   },
   "outputs": [
    {
     "ename": "NameError",
     "evalue": "name 'combined_data' is not defined",
     "output_type": "error",
     "traceback": [
      "\u001b[0;31m---------------------------------------------------------------------------\u001b[0m",
      "\u001b[0;31mNameError\u001b[0m                                 Traceback (most recent call last)",
      "Cell \u001b[0;32mIn[22], line 1\u001b[0m\n\u001b[0;32m----> 1\u001b[0m features \u001b[38;5;241m=\u001b[39m np\u001b[38;5;241m.\u001b[39marray([item[\u001b[38;5;241m0\u001b[39m] \u001b[38;5;28;01mfor\u001b[39;00m item \u001b[38;5;129;01min\u001b[39;00m combined_data])\n\u001b[1;32m      2\u001b[0m labels \u001b[38;5;241m=\u001b[39m pad_sequences([item[\u001b[38;5;241m1\u001b[39m] \u001b[38;5;28;01mfor\u001b[39;00m item \u001b[38;5;129;01min\u001b[39;00m combined_data], padding\u001b[38;5;241m=\u001b[39m\u001b[38;5;124m'\u001b[39m\u001b[38;5;124mpost\u001b[39m\u001b[38;5;124m'\u001b[39m, dtype\u001b[38;5;241m=\u001b[39m\u001b[38;5;124m'\u001b[39m\u001b[38;5;124mfloat32\u001b[39m\u001b[38;5;124m'\u001b[39m)\n\u001b[1;32m      3\u001b[0m \u001b[38;5;28mprint\u001b[39m(\u001b[38;5;124m\"\u001b[39m\u001b[38;5;124mFeatures shape:\u001b[39m\u001b[38;5;124m\"\u001b[39m, features\u001b[38;5;241m.\u001b[39mshape)\n",
      "\u001b[0;31mNameError\u001b[0m: name 'combined_data' is not defined"
     ]
    }
   ],
   "source": [
    "features = np.array([item[0] for item in combined_data])\n",
    "labels = pad_sequences([item[1] for item in combined_data], padding='post', dtype='float32')\n",
    "print(\"Features shape:\", features.shape)\n",
    "print(\"Labels shape:\", labels.shape)"
   ]
  },
  {
   "cell_type": "code",
   "execution_count": 12,
   "id": "ff484531-0b6b-4690-844d-a6f42a31252b",
   "metadata": {
    "tags": []
   },
   "outputs": [
    {
     "data": {
      "text/plain": [
       "'# Filter out rows where the label length is not equal to MAX_LENGTH\\nfiltered_data = [item for item in combined_data if len(item[1]) == MAX_LENGTH]\\n\\n# Now extract the features and labels from the filtered data\\nfeatures = np.array([item[0] for item in filtered_data])\\nlabels = np.array([item[1] for item in filtered_data])\\nprint(\"Features shape:\", features.shape)\\nprint(\"Labels shape:\", labels.shape)'"
      ]
     },
     "execution_count": 12,
     "metadata": {},
     "output_type": "execute_result"
    }
   ],
   "source": [
    "\"\"\"# Filter out rows where the label length is not equal to MAX_LENGTH\n",
    "filtered_data = [item for item in combined_data if len(item[1]) == MAX_LENGTH]\n",
    "\n",
    "# Now extract the features and labels from the filtered data\n",
    "features = np.array([item[0] for item in filtered_data])\n",
    "labels = np.array([item[1] for item in filtered_data])\n",
    "print(\"Features shape:\", features.shape)\n",
    "print(\"Labels shape:\", labels.shape)\"\"\""
   ]
  },
  {
   "cell_type": "code",
   "execution_count": 13,
   "id": "f20bd02f-7f2b-4af6-96c9-2a4ef7f2a10b",
   "metadata": {
    "tags": []
   },
   "outputs": [],
   "source": [
    "# Define the model\n",
    "class RNAPredictor(nn.Module):\n",
    "    def __init__(self, input_dim, embedding_dim, hidden_dim, output_dim, max_length):\n",
    "        super(RNAPredictor, self).__init__()\n",
    "        self.embedding = nn.Embedding(input_dim, embedding_dim, padding_idx=0)\n",
    "        self.lstm = nn.LSTM(embedding_dim, hidden_dim, batch_first=True)\n",
    "        self.fc = nn.Linear(hidden_dim, output_dim)\n",
    "    \n",
    "    def forward(self, x):\n",
    "        embedded = self.embedding(x)\n",
    "        lstm_out, _ = self.lstm(embedded)\n",
    "        output = self.fc(lstm_out)\n",
    "        return v\n",
    "\n",
    "# Parameters\n",
    "input_dim = 5  # ACGU (1-4) + padding (0)\n",
    "embedding_dim = 32\n",
    "hidden_dim = 64\n",
    "output_dim = 3  # Example: 0 (.), 1 ((), 2 ())\n",
    "\n",
    "# Initialize the model\n",
    "model = RNAPredictor(input_dim, embedding_dim, hidden_dim, output_dim, max_length = MAX_LENGTH)"
   ]
  },
  {
   "cell_type": "code",
   "execution_count": 14,
   "id": "357289d2-1971-434b-987d-2f7cfd879286",
   "metadata": {
    "tags": []
   },
   "outputs": [
    {
     "ename": "NameError",
     "evalue": "name 'NeuralNetwork' is not defined",
     "output_type": "error",
     "traceback": [
      "\u001b[0;31m---------------------------------------------------------------------------\u001b[0m",
      "\u001b[0;31mNameError\u001b[0m                                 Traceback (most recent call last)",
      "Cell \u001b[0;32mIn[14], line 1\u001b[0m\n\u001b[0;32m----> 1\u001b[0m model \u001b[38;5;241m=\u001b[39m NeuralNetwork()\u001b[38;5;241m.\u001b[39mto(device)\n\u001b[1;32m      2\u001b[0m \u001b[38;5;28mprint\u001b[39m(model)\n",
      "\u001b[0;31mNameError\u001b[0m: name 'NeuralNetwork' is not defined"
     ]
    }
   ],
   "source": [
    "model = NeuralNetwork().to(device)\n",
    "print(model)"
   ]
  },
  {
   "cell_type": "code",
   "execution_count": 15,
   "id": "a29a9351-88fb-4ab1-98d5-993406eb0739",
   "metadata": {
    "tags": []
   },
   "outputs": [
    {
     "ename": "RuntimeError",
     "evalue": "Expected tensor for argument #1 'indices' to have one of the following scalar types: Long, Int; but got MPSFloatType instead (while checking arguments for embedding)",
     "output_type": "error",
     "traceback": [
      "\u001b[0;31m---------------------------------------------------------------------------\u001b[0m",
      "\u001b[0;31mRuntimeError\u001b[0m                              Traceback (most recent call last)",
      "Cell \u001b[0;32mIn[15], line 2\u001b[0m\n\u001b[1;32m      1\u001b[0m X \u001b[38;5;241m=\u001b[39m torch\u001b[38;5;241m.\u001b[39mrand(\u001b[38;5;241m1\u001b[39m, \u001b[38;5;241m28\u001b[39m, \u001b[38;5;241m28\u001b[39m, device\u001b[38;5;241m=\u001b[39mdevice)\n\u001b[0;32m----> 2\u001b[0m logits \u001b[38;5;241m=\u001b[39m model(X)\n\u001b[1;32m      3\u001b[0m pred_probab \u001b[38;5;241m=\u001b[39m nn\u001b[38;5;241m.\u001b[39mSoftmax(dim\u001b[38;5;241m=\u001b[39m\u001b[38;5;241m1\u001b[39m)(logits)\n\u001b[1;32m      4\u001b[0m y_pred \u001b[38;5;241m=\u001b[39m pred_probab\u001b[38;5;241m.\u001b[39margmax(\u001b[38;5;241m1\u001b[39m)\n",
      "File \u001b[0;32m~/anaconda3/lib/python3.11/site-packages/torch/nn/modules/module.py:1553\u001b[0m, in \u001b[0;36mModule._wrapped_call_impl\u001b[0;34m(self, *args, **kwargs)\u001b[0m\n\u001b[1;32m   1551\u001b[0m     \u001b[38;5;28;01mreturn\u001b[39;00m \u001b[38;5;28mself\u001b[39m\u001b[38;5;241m.\u001b[39m_compiled_call_impl(\u001b[38;5;241m*\u001b[39margs, \u001b[38;5;241m*\u001b[39m\u001b[38;5;241m*\u001b[39mkwargs)  \u001b[38;5;66;03m# type: ignore[misc]\u001b[39;00m\n\u001b[1;32m   1552\u001b[0m \u001b[38;5;28;01melse\u001b[39;00m:\n\u001b[0;32m-> 1553\u001b[0m     \u001b[38;5;28;01mreturn\u001b[39;00m \u001b[38;5;28mself\u001b[39m\u001b[38;5;241m.\u001b[39m_call_impl(\u001b[38;5;241m*\u001b[39margs, \u001b[38;5;241m*\u001b[39m\u001b[38;5;241m*\u001b[39mkwargs)\n",
      "File \u001b[0;32m~/anaconda3/lib/python3.11/site-packages/torch/nn/modules/module.py:1562\u001b[0m, in \u001b[0;36mModule._call_impl\u001b[0;34m(self, *args, **kwargs)\u001b[0m\n\u001b[1;32m   1557\u001b[0m \u001b[38;5;66;03m# If we don't have any hooks, we want to skip the rest of the logic in\u001b[39;00m\n\u001b[1;32m   1558\u001b[0m \u001b[38;5;66;03m# this function, and just call forward.\u001b[39;00m\n\u001b[1;32m   1559\u001b[0m \u001b[38;5;28;01mif\u001b[39;00m \u001b[38;5;129;01mnot\u001b[39;00m (\u001b[38;5;28mself\u001b[39m\u001b[38;5;241m.\u001b[39m_backward_hooks \u001b[38;5;129;01mor\u001b[39;00m \u001b[38;5;28mself\u001b[39m\u001b[38;5;241m.\u001b[39m_backward_pre_hooks \u001b[38;5;129;01mor\u001b[39;00m \u001b[38;5;28mself\u001b[39m\u001b[38;5;241m.\u001b[39m_forward_hooks \u001b[38;5;129;01mor\u001b[39;00m \u001b[38;5;28mself\u001b[39m\u001b[38;5;241m.\u001b[39m_forward_pre_hooks\n\u001b[1;32m   1560\u001b[0m         \u001b[38;5;129;01mor\u001b[39;00m _global_backward_pre_hooks \u001b[38;5;129;01mor\u001b[39;00m _global_backward_hooks\n\u001b[1;32m   1561\u001b[0m         \u001b[38;5;129;01mor\u001b[39;00m _global_forward_hooks \u001b[38;5;129;01mor\u001b[39;00m _global_forward_pre_hooks):\n\u001b[0;32m-> 1562\u001b[0m     \u001b[38;5;28;01mreturn\u001b[39;00m forward_call(\u001b[38;5;241m*\u001b[39margs, \u001b[38;5;241m*\u001b[39m\u001b[38;5;241m*\u001b[39mkwargs)\n\u001b[1;32m   1564\u001b[0m \u001b[38;5;28;01mtry\u001b[39;00m:\n\u001b[1;32m   1565\u001b[0m     result \u001b[38;5;241m=\u001b[39m \u001b[38;5;28;01mNone\u001b[39;00m\n",
      "Cell \u001b[0;32mIn[13], line 10\u001b[0m, in \u001b[0;36mRNAPredictor.forward\u001b[0;34m(self, x)\u001b[0m\n\u001b[1;32m      9\u001b[0m \u001b[38;5;28;01mdef\u001b[39;00m \u001b[38;5;21mforward\u001b[39m(\u001b[38;5;28mself\u001b[39m, x):\n\u001b[0;32m---> 10\u001b[0m     embedded \u001b[38;5;241m=\u001b[39m \u001b[38;5;28mself\u001b[39m\u001b[38;5;241m.\u001b[39membedding(x)\n\u001b[1;32m     11\u001b[0m     lstm_out, _ \u001b[38;5;241m=\u001b[39m \u001b[38;5;28mself\u001b[39m\u001b[38;5;241m.\u001b[39mlstm(embedded)\n\u001b[1;32m     12\u001b[0m     output \u001b[38;5;241m=\u001b[39m \u001b[38;5;28mself\u001b[39m\u001b[38;5;241m.\u001b[39mfc(lstm_out)\n",
      "File \u001b[0;32m~/anaconda3/lib/python3.11/site-packages/torch/nn/modules/module.py:1553\u001b[0m, in \u001b[0;36mModule._wrapped_call_impl\u001b[0;34m(self, *args, **kwargs)\u001b[0m\n\u001b[1;32m   1551\u001b[0m     \u001b[38;5;28;01mreturn\u001b[39;00m \u001b[38;5;28mself\u001b[39m\u001b[38;5;241m.\u001b[39m_compiled_call_impl(\u001b[38;5;241m*\u001b[39margs, \u001b[38;5;241m*\u001b[39m\u001b[38;5;241m*\u001b[39mkwargs)  \u001b[38;5;66;03m# type: ignore[misc]\u001b[39;00m\n\u001b[1;32m   1552\u001b[0m \u001b[38;5;28;01melse\u001b[39;00m:\n\u001b[0;32m-> 1553\u001b[0m     \u001b[38;5;28;01mreturn\u001b[39;00m \u001b[38;5;28mself\u001b[39m\u001b[38;5;241m.\u001b[39m_call_impl(\u001b[38;5;241m*\u001b[39margs, \u001b[38;5;241m*\u001b[39m\u001b[38;5;241m*\u001b[39mkwargs)\n",
      "File \u001b[0;32m~/anaconda3/lib/python3.11/site-packages/torch/nn/modules/module.py:1562\u001b[0m, in \u001b[0;36mModule._call_impl\u001b[0;34m(self, *args, **kwargs)\u001b[0m\n\u001b[1;32m   1557\u001b[0m \u001b[38;5;66;03m# If we don't have any hooks, we want to skip the rest of the logic in\u001b[39;00m\n\u001b[1;32m   1558\u001b[0m \u001b[38;5;66;03m# this function, and just call forward.\u001b[39;00m\n\u001b[1;32m   1559\u001b[0m \u001b[38;5;28;01mif\u001b[39;00m \u001b[38;5;129;01mnot\u001b[39;00m (\u001b[38;5;28mself\u001b[39m\u001b[38;5;241m.\u001b[39m_backward_hooks \u001b[38;5;129;01mor\u001b[39;00m \u001b[38;5;28mself\u001b[39m\u001b[38;5;241m.\u001b[39m_backward_pre_hooks \u001b[38;5;129;01mor\u001b[39;00m \u001b[38;5;28mself\u001b[39m\u001b[38;5;241m.\u001b[39m_forward_hooks \u001b[38;5;129;01mor\u001b[39;00m \u001b[38;5;28mself\u001b[39m\u001b[38;5;241m.\u001b[39m_forward_pre_hooks\n\u001b[1;32m   1560\u001b[0m         \u001b[38;5;129;01mor\u001b[39;00m _global_backward_pre_hooks \u001b[38;5;129;01mor\u001b[39;00m _global_backward_hooks\n\u001b[1;32m   1561\u001b[0m         \u001b[38;5;129;01mor\u001b[39;00m _global_forward_hooks \u001b[38;5;129;01mor\u001b[39;00m _global_forward_pre_hooks):\n\u001b[0;32m-> 1562\u001b[0m     \u001b[38;5;28;01mreturn\u001b[39;00m forward_call(\u001b[38;5;241m*\u001b[39margs, \u001b[38;5;241m*\u001b[39m\u001b[38;5;241m*\u001b[39mkwargs)\n\u001b[1;32m   1564\u001b[0m \u001b[38;5;28;01mtry\u001b[39;00m:\n\u001b[1;32m   1565\u001b[0m     result \u001b[38;5;241m=\u001b[39m \u001b[38;5;28;01mNone\u001b[39;00m\n",
      "File \u001b[0;32m~/anaconda3/lib/python3.11/site-packages/torch/nn/modules/sparse.py:164\u001b[0m, in \u001b[0;36mEmbedding.forward\u001b[0;34m(self, input)\u001b[0m\n\u001b[1;32m    163\u001b[0m \u001b[38;5;28;01mdef\u001b[39;00m \u001b[38;5;21mforward\u001b[39m(\u001b[38;5;28mself\u001b[39m, \u001b[38;5;28minput\u001b[39m: Tensor) \u001b[38;5;241m-\u001b[39m\u001b[38;5;241m>\u001b[39m Tensor:\n\u001b[0;32m--> 164\u001b[0m     \u001b[38;5;28;01mreturn\u001b[39;00m F\u001b[38;5;241m.\u001b[39membedding(\n\u001b[1;32m    165\u001b[0m         \u001b[38;5;28minput\u001b[39m, \u001b[38;5;28mself\u001b[39m\u001b[38;5;241m.\u001b[39mweight, \u001b[38;5;28mself\u001b[39m\u001b[38;5;241m.\u001b[39mpadding_idx, \u001b[38;5;28mself\u001b[39m\u001b[38;5;241m.\u001b[39mmax_norm,\n\u001b[1;32m    166\u001b[0m         \u001b[38;5;28mself\u001b[39m\u001b[38;5;241m.\u001b[39mnorm_type, \u001b[38;5;28mself\u001b[39m\u001b[38;5;241m.\u001b[39mscale_grad_by_freq, \u001b[38;5;28mself\u001b[39m\u001b[38;5;241m.\u001b[39msparse)\n",
      "File \u001b[0;32m~/anaconda3/lib/python3.11/site-packages/torch/nn/functional.py:2267\u001b[0m, in \u001b[0;36membedding\u001b[0;34m(input, weight, padding_idx, max_norm, norm_type, scale_grad_by_freq, sparse)\u001b[0m\n\u001b[1;32m   2261\u001b[0m     \u001b[38;5;66;03m# Note [embedding_renorm set_grad_enabled]\u001b[39;00m\n\u001b[1;32m   2262\u001b[0m     \u001b[38;5;66;03m# XXX: equivalent to\u001b[39;00m\n\u001b[1;32m   2263\u001b[0m     \u001b[38;5;66;03m# with torch.no_grad():\u001b[39;00m\n\u001b[1;32m   2264\u001b[0m     \u001b[38;5;66;03m#   torch.embedding_renorm_\u001b[39;00m\n\u001b[1;32m   2265\u001b[0m     \u001b[38;5;66;03m# remove once script supports set_grad_enabled\u001b[39;00m\n\u001b[1;32m   2266\u001b[0m     _no_grad_embedding_renorm_(weight, \u001b[38;5;28minput\u001b[39m, max_norm, norm_type)\n\u001b[0;32m-> 2267\u001b[0m \u001b[38;5;28;01mreturn\u001b[39;00m torch\u001b[38;5;241m.\u001b[39membedding(weight, \u001b[38;5;28minput\u001b[39m, padding_idx, scale_grad_by_freq, sparse)\n",
      "\u001b[0;31mRuntimeError\u001b[0m: Expected tensor for argument #1 'indices' to have one of the following scalar types: Long, Int; but got MPSFloatType instead (while checking arguments for embedding)"
     ]
    }
   ],
   "source": [
    "X = torch.rand(1, 28, 28, device=device)\n",
    "logits = model(X)\n",
    "pred_probab = nn.Softmax(dim=1)(logits)\n",
    "y_pred = pred_probab.argmax(1)\n",
    "print(f\"Predicted class: {y_pred}\")"
   ]
  },
  {
   "cell_type": "code",
   "execution_count": 179,
   "id": "fe8e51d7-06f3-4bae-8095-f6655fdc1b08",
   "metadata": {
    "tags": []
   },
   "outputs": [
    {
     "name": "stdout",
     "output_type": "stream",
     "text": [
      "Epoch 1/50\n"
     ]
    },
    {
     "name": "stderr",
     "output_type": "stream",
     "text": [
      "/Users/ethanhersch/anaconda3/lib/python3.11/site-packages/keras/src/layers/core/dense.py:87: UserWarning: Do not pass an `input_shape`/`input_dim` argument to a layer. When using Sequential models, prefer using an `Input(shape)` object as the first layer in the model instead.\n",
      "  super().__init__(activity_regularizer=activity_regularizer, **kwargs)\n"
     ]
    },
    {
     "name": "stdout",
     "output_type": "stream",
     "text": [
      "\u001b[1m14/14\u001b[0m \u001b[32m━━━━━━━━━━━━━━━━━━━━\u001b[0m\u001b[37m\u001b[0m \u001b[1m0s\u001b[0m 5ms/step - loss: 69.1934 - mae: 3.1223 - val_loss: 35.8402 - val_mae: 3.5061\n",
      "Epoch 2/50\n",
      "\u001b[1m14/14\u001b[0m \u001b[32m━━━━━━━━━━━━━━━━━━━━\u001b[0m\u001b[37m\u001b[0m \u001b[1m0s\u001b[0m 2ms/step - loss: 57.0758 - mae: 3.9159 - val_loss: 34.4546 - val_mae: 2.8735\n",
      "Epoch 3/50\n",
      "\u001b[1m14/14\u001b[0m \u001b[32m━━━━━━━━━━━━━━━━━━━━\u001b[0m\u001b[37m\u001b[0m \u001b[1m0s\u001b[0m 2ms/step - loss: 65.5130 - mae: 3.5665 - val_loss: 35.1565 - val_mae: 2.5654\n",
      "Epoch 4/50\n",
      "\u001b[1m14/14\u001b[0m \u001b[32m━━━━━━━━━━━━━━━━━━━━\u001b[0m\u001b[37m\u001b[0m \u001b[1m0s\u001b[0m 1ms/step - loss: 66.2000 - mae: 3.4047 - val_loss: 35.3391 - val_mae: 2.5390\n",
      "Epoch 5/50\n",
      "\u001b[1m14/14\u001b[0m \u001b[32m━━━━━━━━━━━━━━━━━━━━\u001b[0m\u001b[37m\u001b[0m \u001b[1m0s\u001b[0m 2ms/step - loss: 46.4780 - mae: 2.8218 - val_loss: 34.8330 - val_mae: 2.5131\n",
      "Epoch 6/50\n",
      "\u001b[1m14/14\u001b[0m \u001b[32m━━━━━━━━━━━━━━━━━━━━\u001b[0m\u001b[37m\u001b[0m \u001b[1m0s\u001b[0m 2ms/step - loss: 68.0973 - mae: 3.4527 - val_loss: 34.7589 - val_mae: 2.3870\n",
      "Epoch 7/50\n",
      "\u001b[1m14/14\u001b[0m \u001b[32m━━━━━━━━━━━━━━━━━━━━\u001b[0m\u001b[37m\u001b[0m \u001b[1m0s\u001b[0m 2ms/step - loss: 49.9770 - mae: 2.8892 - val_loss: 34.2589 - val_mae: 2.5117\n",
      "Epoch 8/50\n",
      "\u001b[1m14/14\u001b[0m \u001b[32m━━━━━━━━━━━━━━━━━━━━\u001b[0m\u001b[37m\u001b[0m \u001b[1m0s\u001b[0m 2ms/step - loss: 55.7407 - mae: 3.3369 - val_loss: 34.3163 - val_mae: 2.5423\n",
      "Epoch 9/50\n",
      "\u001b[1m14/14\u001b[0m \u001b[32m━━━━━━━━━━━━━━━━━━━━\u001b[0m\u001b[37m\u001b[0m \u001b[1m0s\u001b[0m 1ms/step - loss: 71.2899 - mae: 3.8091 - val_loss: 34.4524 - val_mae: 2.5275\n",
      "Epoch 10/50\n",
      "\u001b[1m14/14\u001b[0m \u001b[32m━━━━━━━━━━━━━━━━━━━━\u001b[0m\u001b[37m\u001b[0m \u001b[1m0s\u001b[0m 1ms/step - loss: 69.2856 - mae: 3.5030 - val_loss: 34.3788 - val_mae: 2.4063\n",
      "Epoch 11/50\n",
      "\u001b[1m14/14\u001b[0m \u001b[32m━━━━━━━━━━━━━━━━━━━━\u001b[0m\u001b[37m\u001b[0m \u001b[1m0s\u001b[0m 1ms/step - loss: 50.5817 - mae: 2.8572 - val_loss: 34.1906 - val_mae: 2.4887\n",
      "Epoch 12/50\n",
      "\u001b[1m14/14\u001b[0m \u001b[32m━━━━━━━━━━━━━━━━━━━━\u001b[0m\u001b[37m\u001b[0m \u001b[1m0s\u001b[0m 2ms/step - loss: 50.9131 - mae: 3.0461 - val_loss: 34.7793 - val_mae: 2.4990\n",
      "Epoch 13/50\n",
      "\u001b[1m14/14\u001b[0m \u001b[32m━━━━━━━━━━━━━━━━━━━━\u001b[0m\u001b[37m\u001b[0m \u001b[1m0s\u001b[0m 1ms/step - loss: 62.1150 - mae: 3.2531 - val_loss: 34.2019 - val_mae: 2.3878\n",
      "Epoch 14/50\n",
      "\u001b[1m14/14\u001b[0m \u001b[32m━━━━━━━━━━━━━━━━━━━━\u001b[0m\u001b[37m\u001b[0m \u001b[1m0s\u001b[0m 2ms/step - loss: 69.7101 - mae: 3.5478 - val_loss: 34.3818 - val_mae: 2.4877\n",
      "Epoch 15/50\n",
      "\u001b[1m14/14\u001b[0m \u001b[32m━━━━━━━━━━━━━━━━━━━━\u001b[0m\u001b[37m\u001b[0m \u001b[1m0s\u001b[0m 1ms/step - loss: 60.4676 - mae: 3.4103 - val_loss: 34.1417 - val_mae: 2.3085\n",
      "Epoch 16/50\n",
      "\u001b[1m14/14\u001b[0m \u001b[32m━━━━━━━━━━━━━━━━━━━━\u001b[0m\u001b[37m\u001b[0m \u001b[1m0s\u001b[0m 2ms/step - loss: 58.0969 - mae: 3.3888 - val_loss: 34.2914 - val_mae: 2.5411\n",
      "Epoch 17/50\n",
      "\u001b[1m14/14\u001b[0m \u001b[32m━━━━━━━━━━━━━━━━━━━━\u001b[0m\u001b[37m\u001b[0m \u001b[1m0s\u001b[0m 2ms/step - loss: 58.3793 - mae: 3.4252 - val_loss: 34.6411 - val_mae: 2.3628\n",
      "Epoch 18/50\n",
      "\u001b[1m14/14\u001b[0m \u001b[32m━━━━━━━━━━━━━━━━━━━━\u001b[0m\u001b[37m\u001b[0m \u001b[1m0s\u001b[0m 2ms/step - loss: 64.0708 - mae: 3.1287 - val_loss: 34.0980 - val_mae: 2.3449\n",
      "Epoch 19/50\n",
      "\u001b[1m14/14\u001b[0m \u001b[32m━━━━━━━━━━━━━━━━━━━━\u001b[0m\u001b[37m\u001b[0m \u001b[1m0s\u001b[0m 1ms/step - loss: 60.8557 - mae: 3.4193 - val_loss: 34.1460 - val_mae: 2.4039\n",
      "Epoch 20/50\n",
      "\u001b[1m14/14\u001b[0m \u001b[32m━━━━━━━━━━━━━━━━━━━━\u001b[0m\u001b[37m\u001b[0m \u001b[1m0s\u001b[0m 1ms/step - loss: 61.8815 - mae: 3.2047 - val_loss: 34.1520 - val_mae: 2.3941\n",
      "Epoch 21/50\n",
      "\u001b[1m14/14\u001b[0m \u001b[32m━━━━━━━━━━━━━━━━━━━━\u001b[0m\u001b[37m\u001b[0m \u001b[1m0s\u001b[0m 2ms/step - loss: 62.5063 - mae: 3.3174 - val_loss: 34.2023 - val_mae: 2.4041\n",
      "Epoch 22/50\n",
      "\u001b[1m14/14\u001b[0m \u001b[32m━━━━━━━━━━━━━━━━━━━━\u001b[0m\u001b[37m\u001b[0m \u001b[1m0s\u001b[0m 2ms/step - loss: 60.6344 - mae: 3.4283 - val_loss: 34.6602 - val_mae: 2.4268\n",
      "Epoch 23/50\n",
      "\u001b[1m14/14\u001b[0m \u001b[32m━━━━━━━━━━━━━━━━━━━━\u001b[0m\u001b[37m\u001b[0m \u001b[1m0s\u001b[0m 2ms/step - loss: 45.5237 - mae: 2.9019 - val_loss: 34.5004 - val_mae: 2.4444\n",
      "Epoch 24/50\n",
      "\u001b[1m14/14\u001b[0m \u001b[32m━━━━━━━━━━━━━━━━━━━━\u001b[0m\u001b[37m\u001b[0m \u001b[1m0s\u001b[0m 3ms/step - loss: 73.1176 - mae: 3.5731 - val_loss: 34.2255 - val_mae: 2.2707\n",
      "Epoch 25/50\n",
      "\u001b[1m14/14\u001b[0m \u001b[32m━━━━━━━━━━━━━━━━━━━━\u001b[0m\u001b[37m\u001b[0m \u001b[1m0s\u001b[0m 1ms/step - loss: 83.9802 - mae: 3.7151 - val_loss: 34.4797 - val_mae: 2.4096\n",
      "Epoch 26/50\n",
      "\u001b[1m14/14\u001b[0m \u001b[32m━━━━━━━━━━━━━━━━━━━━\u001b[0m\u001b[37m\u001b[0m \u001b[1m0s\u001b[0m 1ms/step - loss: 61.6063 - mae: 3.3060 - val_loss: 34.0148 - val_mae: 2.3986\n",
      "Epoch 27/50\n",
      "\u001b[1m14/14\u001b[0m \u001b[32m━━━━━━━━━━━━━━━━━━━━\u001b[0m\u001b[37m\u001b[0m \u001b[1m0s\u001b[0m 1ms/step - loss: 50.6265 - mae: 3.1662 - val_loss: 33.9961 - val_mae: 2.3588\n",
      "Epoch 28/50\n",
      "\u001b[1m14/14\u001b[0m \u001b[32m━━━━━━━━━━━━━━━━━━━━\u001b[0m\u001b[37m\u001b[0m \u001b[1m0s\u001b[0m 1ms/step - loss: 55.8177 - mae: 3.1406 - val_loss: 33.8850 - val_mae: 2.3284\n",
      "Epoch 29/50\n",
      "\u001b[1m14/14\u001b[0m \u001b[32m━━━━━━━━━━━━━━━━━━━━\u001b[0m\u001b[37m\u001b[0m \u001b[1m0s\u001b[0m 1ms/step - loss: 62.2324 - mae: 3.2042 - val_loss: 33.6925 - val_mae: 2.4412\n",
      "Epoch 30/50\n",
      "\u001b[1m14/14\u001b[0m \u001b[32m━━━━━━━━━━━━━━━━━━━━\u001b[0m\u001b[37m\u001b[0m \u001b[1m0s\u001b[0m 1ms/step - loss: 50.1927 - mae: 3.1423 - val_loss: 34.1133 - val_mae: 2.4215\n",
      "Epoch 31/50\n",
      "\u001b[1m14/14\u001b[0m \u001b[32m━━━━━━━━━━━━━━━━━━━━\u001b[0m\u001b[37m\u001b[0m \u001b[1m0s\u001b[0m 1ms/step - loss: 63.1837 - mae: 3.2183 - val_loss: 34.1143 - val_mae: 2.3562\n",
      "Epoch 32/50\n",
      "\u001b[1m14/14\u001b[0m \u001b[32m━━━━━━━━━━━━━━━━━━━━\u001b[0m\u001b[37m\u001b[0m \u001b[1m0s\u001b[0m 2ms/step - loss: 45.5344 - mae: 2.9774 - val_loss: 34.1235 - val_mae: 2.3864\n",
      "Epoch 33/50\n",
      "\u001b[1m14/14\u001b[0m \u001b[32m━━━━━━━━━━━━━━━━━━━━\u001b[0m\u001b[37m\u001b[0m \u001b[1m0s\u001b[0m 1ms/step - loss: 58.1466 - mae: 3.3643 - val_loss: 33.9450 - val_mae: 2.2896\n",
      "Epoch 34/50\n",
      "\u001b[1m14/14\u001b[0m \u001b[32m━━━━━━━━━━━━━━━━━━━━\u001b[0m\u001b[37m\u001b[0m \u001b[1m0s\u001b[0m 1ms/step - loss: 55.9634 - mae: 3.0146 - val_loss: 33.9997 - val_mae: 2.4906\n",
      "Epoch 35/50\n",
      "\u001b[1m14/14\u001b[0m \u001b[32m━━━━━━━━━━━━━━━━━━━━\u001b[0m\u001b[37m\u001b[0m \u001b[1m0s\u001b[0m 1ms/step - loss: 59.0779 - mae: 3.2794 - val_loss: 34.0565 - val_mae: 2.3857\n",
      "Epoch 36/50\n",
      "\u001b[1m14/14\u001b[0m \u001b[32m━━━━━━━━━━━━━━━━━━━━\u001b[0m\u001b[37m\u001b[0m \u001b[1m0s\u001b[0m 1ms/step - loss: 68.9175 - mae: 3.6976 - val_loss: 34.4983 - val_mae: 2.2715\n",
      "Epoch 37/50\n",
      "\u001b[1m14/14\u001b[0m \u001b[32m━━━━━━━━━━━━━━━━━━━━\u001b[0m\u001b[37m\u001b[0m \u001b[1m0s\u001b[0m 1ms/step - loss: 57.6775 - mae: 3.0257 - val_loss: 33.8678 - val_mae: 2.3518\n",
      "Epoch 38/50\n",
      "\u001b[1m14/14\u001b[0m \u001b[32m━━━━━━━━━━━━━━━━━━━━\u001b[0m\u001b[37m\u001b[0m \u001b[1m0s\u001b[0m 1ms/step - loss: 73.6491 - mae: 3.4310 - val_loss: 33.9113 - val_mae: 2.4292\n",
      "Epoch 39/50\n",
      "\u001b[1m14/14\u001b[0m \u001b[32m━━━━━━━━━━━━━━━━━━━━\u001b[0m\u001b[37m\u001b[0m \u001b[1m0s\u001b[0m 1ms/step - loss: 56.3512 - mae: 3.1515 - val_loss: 34.2083 - val_mae: 2.3329\n",
      "Epoch 40/50\n",
      "\u001b[1m14/14\u001b[0m \u001b[32m━━━━━━━━━━━━━━━━━━━━\u001b[0m\u001b[37m\u001b[0m \u001b[1m0s\u001b[0m 1ms/step - loss: 66.9729 - mae: 3.3311 - val_loss: 34.4082 - val_mae: 2.3411\n",
      "Epoch 41/50\n",
      "\u001b[1m14/14\u001b[0m \u001b[32m━━━━━━━━━━━━━━━━━━━━\u001b[0m\u001b[37m\u001b[0m \u001b[1m0s\u001b[0m 1ms/step - loss: 54.3227 - mae: 2.9980 - val_loss: 33.9133 - val_mae: 2.4033\n",
      "Epoch 42/50\n",
      "\u001b[1m14/14\u001b[0m \u001b[32m━━━━━━━━━━━━━━━━━━━━\u001b[0m\u001b[37m\u001b[0m \u001b[1m0s\u001b[0m 2ms/step - loss: 47.8734 - mae: 3.0434 - val_loss: 33.8546 - val_mae: 2.3094\n",
      "Epoch 43/50\n",
      "\u001b[1m14/14\u001b[0m \u001b[32m━━━━━━━━━━━━━━━━━━━━\u001b[0m\u001b[37m\u001b[0m \u001b[1m0s\u001b[0m 2ms/step - loss: 78.9228 - mae: 3.5201 - val_loss: 34.1495 - val_mae: 2.4160\n",
      "Epoch 44/50\n",
      "\u001b[1m14/14\u001b[0m \u001b[32m━━━━━━━━━━━━━━━━━━━━\u001b[0m\u001b[37m\u001b[0m \u001b[1m0s\u001b[0m 1ms/step - loss: 53.1423 - mae: 3.1539 - val_loss: 33.9230 - val_mae: 2.3047\n",
      "Epoch 45/50\n",
      "\u001b[1m14/14\u001b[0m \u001b[32m━━━━━━━━━━━━━━━━━━━━\u001b[0m\u001b[37m\u001b[0m \u001b[1m0s\u001b[0m 1ms/step - loss: 46.3858 - mae: 2.9087 - val_loss: 33.8262 - val_mae: 2.3729\n",
      "Epoch 46/50\n",
      "\u001b[1m14/14\u001b[0m \u001b[32m━━━━━━━━━━━━━━━━━━━━\u001b[0m\u001b[37m\u001b[0m \u001b[1m0s\u001b[0m 2ms/step - loss: 48.6051 - mae: 3.0003 - val_loss: 34.2581 - val_mae: 2.4597\n",
      "Epoch 47/50\n",
      "\u001b[1m14/14\u001b[0m \u001b[32m━━━━━━━━━━━━━━━━━━━━\u001b[0m\u001b[37m\u001b[0m \u001b[1m0s\u001b[0m 2ms/step - loss: 62.8996 - mae: 3.5038 - val_loss: 34.4038 - val_mae: 2.3084\n",
      "Epoch 48/50\n",
      "\u001b[1m14/14\u001b[0m \u001b[32m━━━━━━━━━━━━━━━━━━━━\u001b[0m\u001b[37m\u001b[0m \u001b[1m0s\u001b[0m 1ms/step - loss: 72.5134 - mae: 3.3305 - val_loss: 33.8180 - val_mae: 2.3408\n",
      "Epoch 49/50\n",
      "\u001b[1m14/14\u001b[0m \u001b[32m━━━━━━━━━━━━━━━━━━━━\u001b[0m\u001b[37m\u001b[0m \u001b[1m0s\u001b[0m 1ms/step - loss: 56.5920 - mae: 3.3455 - val_loss: 34.0179 - val_mae: 2.4191\n",
      "Epoch 50/50\n",
      "\u001b[1m14/14\u001b[0m \u001b[32m━━━━━━━━━━━━━━━━━━━━\u001b[0m\u001b[37m\u001b[0m \u001b[1m0s\u001b[0m 2ms/step - loss: 54.4442 - mae: 3.2564 - val_loss: 34.3132 - val_mae: 2.3289\n"
     ]
    },
    {
     "name": "stderr",
     "output_type": "stream",
     "text": [
      "WARNING:absl:You are saving your model as an HDF5 file via `model.save()` or `keras.saving.save_model(model)`. This file format is considered legacy. We recommend using instead the native Keras format, e.g. `model.save('my_model.keras')` or `keras.saving.save_model(model, 'my_model.keras')`. \n"
     ]
    },
    {
     "name": "stdout",
     "output_type": "stream",
     "text": [
      "Validation Loss: 34.31324005126953, MAE: 2.328850030899048\n"
     ]
    },
    {
     "data": {
      "image/png": "[encoded data removed]",
      "text/plain": [
       "<Figure size 640x480 with 1 Axes>"
      ]
     },
     "metadata": {},
     "output_type": "display_data"
    }
   ],
   "source": [
    "# Split Data\n",
    "X_train, X_test, y_train, y_test = train_test_split(features, labels, test_size=0.2, random_state=42)\n",
    "\n",
    "# Define the Model\n",
    "model = Sequential([\n",
    "    Dense(64, activation='relu', input_shape=(features.shape[1],)),  # Input size matches feature dimension\n",
    "    Dropout(0.3),  # Regularization to prevent overfitting\n",
    "    Dense(32, activation='relu'),\n",
    "    Dense(1)  # Assuming a regression task; use 'softmax' for multi-class classification\n",
    "])\n",
    "\n",
    "# Compile the Model\n",
    "model.compile(optimizer='adam', loss='mean_squared_error', metrics=['mae'])  # Adjust loss for classification\n",
    "\n",
    "# Train the Model\n",
    "history = model.fit(\n",
    "    X_train, y_train,\n",
    "    validation_data=(X_val, y_val),\n",
    "    epochs=50,  # Adjust based on convergence\n",
    "    batch_size=32,  # Tune batch size\n",
    "    verbose=1  # Set to 2 for less output, 0 for silent\n",
    ")\n",
    "\n",
    "# Evaluate the Model\n",
    "loss, mae = model.evaluate(X_val, y_val, verbose=0)\n",
    "print(f\"Validation Loss: {loss}, MAE: {mae}\")\n",
    "\n",
    "# Save the Model\n",
    "model.save('trained_model.h5')\n",
    "\n",
    "# Optional: Visualize Training Progress\n",
    "import matplotlib.pyplot as plt\n",
    "\n",
    "plt.plot(history.history['loss'], label='Training Loss')\n",
    "plt.plot(history.history['val_loss'], label='Validation Loss')\n",
    "plt.xlabel('Epochs')\n",
    "plt.ylabel('Loss')\n",
    "plt.legend()\n",
    "plt.show()"
   ]
  },
  {
   "cell_type": "code",
   "execution_count": 182,
   "id": "4fcf9627-ffdd-436a-97b7-67f977102cbc",
   "metadata": {
    "tags": []
   },
   "outputs": [
    {
     "name": "stdout",
     "output_type": "stream",
     "text": [
      "Test Loss: 34.31324005126953, Test MAE: 2.328850030899048\n"
     ]
    }
   ],
   "source": [
    "# Evaluate the Model on Test Data\n",
    "loss, mae = model.evaluate(X_test, y_test, verbose=0)\n",
    "print(f\"Test Loss: {loss}, Test MAE: {mae}\")"
   ]
  },
  {
   "cell_type": "code",
   "execution_count": 186,
   "id": "74e62c1c-8b44-4acf-8d18-35707d3cc8f1",
   "metadata": {
    "tags": []
   },
   "outputs": [
    {
     "name": "stdout",
     "output_type": "stream",
     "text": [
      "\u001b[1m4/4\u001b[0m \u001b[32m━━━━━━━━━━━━━━━━━━━━\u001b[0m\u001b[37m\u001b[0m \u001b[1m0s\u001b[0m 6ms/step \n"
     ]
    }
   ],
   "source": [
    "predictions = model.predict(X_test)"
   ]
  },
  {
   "cell_type": "code",
   "execution_count": 187,
   "id": "fa12d1ba-c0c2-45fd-b738-34031ede2d23",
   "metadata": {
    "tags": []
   },
   "outputs": [
    {
     "data": {
      "text/plain": [
       "array([[ 3.93657613e+00],\n",
       "       [ 6.19435692e+00],\n",
       "       [-1.47518143e-02],\n",
       "       [ 2.22166085e+00],\n",
       "       [ 1.67968124e-01],\n",
       "       [ 2.61527181e+00],\n",
       "       [ 1.08957365e-02],\n",
       "       [ 1.67730904e+00],\n",
       "       [ 1.33461624e-01],\n",
       "       [-4.38071862e-02],\n",
       "       [ 2.38928869e-02],\n",
       "       [ 3.90306211e+00],\n",
       "       [-5.18368408e-02],\n",
       "       [-5.18368408e-02],\n",
       "       [ 3.02804783e-02],\n",
       "       [ 8.90914142e-01],\n",
       "       [-1.21729001e-02],\n",
       "       [ 9.85367075e-02],\n",
       "       [ 1.62384474e+00],\n",
       "       [-9.44192931e-02],\n",
       "       [ 2.03021169e+00],\n",
       "       [ 4.66624275e-02],\n",
       "       [ 8.15264606e+00],\n",
       "       [ 6.60878479e-01],\n",
       "       [ 2.31563225e-02],\n",
       "       [ 3.36015597e-02],\n",
       "       [-7.10745677e-02],\n",
       "       [ 6.27135324e+00],\n",
       "       [-3.42529938e-02],\n",
       "       [-6.59454986e-02],\n",
       "       [ 4.67923060e-02],\n",
       "       [ 1.39611232e+00],\n",
       "       [ 1.47758274e+01],\n",
       "       [-5.80992550e-03],\n",
       "       [ 4.59784642e-02],\n",
       "       [ 1.28759831e-01],\n",
       "       [ 1.82736218e+00],\n",
       "       [ 2.36879444e+00],\n",
       "       [ 2.01845840e-02],\n",
       "       [ 1.66149288e-01],\n",
       "       [-2.98528761e-01],\n",
       "       [ 1.58850402e-01],\n",
       "       [ 1.29015818e-02],\n",
       "       [ 2.25565806e-02],\n",
       "       [ 2.99941242e-01],\n",
       "       [ 1.50192291e-01],\n",
       "       [ 3.47894549e+00],\n",
       "       [ 1.40999198e-01],\n",
       "       [ 1.99147850e-01],\n",
       "       [ 2.73209310e+00],\n",
       "       [ 1.68492869e-02],\n",
       "       [ 2.46098804e+00],\n",
       "       [ 1.26320326e+00],\n",
       "       [ 8.94670561e-02],\n",
       "       [ 1.29736304e+00],\n",
       "       [ 2.07663059e+00],\n",
       "       [-2.28692219e-02],\n",
       "       [ 1.53959215e-01],\n",
       "       [ 6.41444588e+00],\n",
       "       [ 7.65380716e+00],\n",
       "       [ 1.33910191e+00],\n",
       "       [ 1.28572881e-01],\n",
       "       [ 2.73457676e-01],\n",
       "       [-9.16686878e-02],\n",
       "       [ 1.90413558e+00],\n",
       "       [ 1.59526520e+01],\n",
       "       [ 1.51440990e+00],\n",
       "       [ 1.93844438e+00],\n",
       "       [ 4.59674746e-03],\n",
       "       [ 1.99453104e+00],\n",
       "       [ 1.64773631e+00],\n",
       "       [ 1.66149288e-01],\n",
       "       [ 9.82226133e-01],\n",
       "       [ 5.95435277e-02],\n",
       "       [ 8.26878622e-02],\n",
       "       [ 5.52362278e-02],\n",
       "       [ 1.30890989e+00],\n",
       "       [ 7.51754940e-01],\n",
       "       [ 2.21556664e+00],\n",
       "       [ 3.72411609e+00],\n",
       "       [ 3.22019830e-02],\n",
       "       [-9.34266970e-02],\n",
       "       [ 2.33091235e+00],\n",
       "       [ 5.98447695e-02],\n",
       "       [ 8.41368213e-02],\n",
       "       [ 5.90353087e-02],\n",
       "       [ 2.26135641e-01],\n",
       "       [ 1.76892674e+00],\n",
       "       [-2.32127830e-02],\n",
       "       [ 5.73134795e-02],\n",
       "       [ 3.63024402e+00],\n",
       "       [-7.63077065e-02],\n",
       "       [ 1.77277744e+00],\n",
       "       [ 4.65763569e-01],\n",
       "       [ 8.37383643e-02],\n",
       "       [ 1.25924313e+00],\n",
       "       [ 2.28940248e-01],\n",
       "       [ 5.44184327e-01],\n",
       "       [ 5.26354089e-02],\n",
       "       [ 6.76097646e-02],\n",
       "       [ 1.24580361e-01],\n",
       "       [-5.94665632e-02],\n",
       "       [-7.09723458e-02],\n",
       "       [ 2.22293258e+00],\n",
       "       [-4.97052595e-02],\n",
       "       [ 1.09072089e+00],\n",
       "       [-9.43645090e-03],\n",
       "       [ 9.26354229e-01],\n",
       "       [ 5.69244921e-01]], dtype=float32)"
      ]
     },
     "execution_count": 187,
     "metadata": {},
     "output_type": "execute_result"
    }
   ],
   "source": [
    "predictions"
   ]
  },
  {
   "cell_type": "code",
   "execution_count": 6,
   "id": "fc09a78b-bb98-4ee5-bb53-0857c47b8769",
   "metadata": {
    "tags": []
   },
   "outputs": [
    {
     "ename": "NameError",
     "evalue": "name 'y_test' is not defined",
     "output_type": "error",
     "traceback": [
      "\u001b[0;31m---------------------------------------------------------------------------\u001b[0m",
      "\u001b[0;31mNameError\u001b[0m                                 Traceback (most recent call last)",
      "Cell \u001b[0;32mIn[6], line 1\u001b[0m\n\u001b[0;32m----> 1\u001b[0m y_test[\u001b[38;5;241m0\u001b[39m]\n",
      "\u001b[0;31mNameError\u001b[0m: name 'y_test' is not defined"
     ]
    }
   ],
   "source": [
    "y_test[0]"
   ]
  },
  {
   "cell_type": "code",
   "execution_count": null,
   "id": "5aca8374-efa1-4a36-8bd6-941fb51e2f0b",
   "metadata": {},
   "outputs": [],
   "source": []
  }
 ],
 "metadata": {
  "kernelspec": {
   "display_name": "Python 3 (ipykernel)",
   "language": "python",
   "name": "python3"
  },
  "language_info": {
   "codemirror_mode": {
    "name": "ipython",
    "version": 3
   },
   "file_extension": ".py",
   "mimetype": "text/x-python",
   "name": "python",
   "nbconvert_exporter": "python",
   "pygments_lexer": "ipython3",
   "version": "3.11.5"
  }
 },
 "nbformat": 4,
 "nbformat_minor": 5
}
